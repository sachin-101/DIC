{
 "cells": [
  {
   "cell_type": "code",
   "execution_count": 1,
   "metadata": {},
   "outputs": [],
   "source": [
    "import os\n",
    "import datetime\n",
    "import torch\n",
    "import random\n",
    "import pickle\n",
    "import numpy as np\n",
    "import pandas as pd\n",
    "\n",
    "#os.chdir(os.path.join(os.getcwd(), 'LAS Model'))\n",
    "import torch.nn as nn\n",
    "import torch.optim as optim\n",
    "from torch.utils.data import DataLoader\n",
    "from torch.utils.tensorboard import SummaryWriter\n",
    "\n",
    "from data import SpeechDataset, AudioDataLoader\n",
    "from listener import Listener\n",
    "from attend_and_spell import AttendAndSpell\n",
    "from seq2seq import Seq2Seq\n",
    "from utils import  train"
   ]
  },
  {
   "cell_type": "markdown",
   "metadata": {},
   "source": [
    "### Load Training data"
   ]
  },
  {
   "cell_type": "code",
   "execution_count": 2,
   "metadata": {},
   "outputs": [
    {
     "name": "stdout",
     "output_type": "stream",
     "text": [
      "DEVICE : cuda:1\n"
     ]
    }
   ],
   "source": [
    "def preprocess(s):\n",
    "    s = s.lower().replace('\\n', '')\n",
    "    return s.translate(str.maketrans('', '', string.punctuation)) # remove punctuation\n",
    "\n",
    "# Used when each sentence is in a separate text file\n",
    "def make_train_df(root_dir, dataset, file_ext, csv_file):\n",
    "    dataset_dir = os.path.join(root_dir, dataset)\n",
    "    data = []\n",
    "    files = os.listdir(dataset_dir)\n",
    "    for f in files:\n",
    "        if '.txt' in f:\n",
    "            with open(os.path.join(dataset_dir, f), 'r') as text_file:\n",
    "                data_list = text_file.readlines()\n",
    "            for example in data_list:\n",
    "                path = os.path.join(dataset, str(example.split(' ')[0])) + file_ext   \n",
    "                sent = preprocess(str(' '.join(example.split(' ')[1:])))\n",
    "                data.append((path, sent))\n",
    "\n",
    "    data_df = pd.DataFrame(data, columns=['path', 'sent'])\n",
    "    data_df.to_csv(os.path.join(root_dir, csv_file), header=None)\n",
    "    return data_df\n",
    "\n",
    "\n",
    "root_dir = '../../../Dataset/LibriSpeech'\n",
    "DEVICE = torch.device('cuda:1') if torch.cuda.is_available() else 'cpu'\n",
    "print('DEVICE :', DEVICE)"
   ]
  },
  {
   "cell_type": "markdown",
   "metadata": {},
   "source": [
    "### Load Training data"
   ]
  },
  {
   "cell_type": "code",
   "execution_count": 3,
   "metadata": {},
   "outputs": [
    {
     "name": "stdout",
     "output_type": "stream",
     "text": [
      "Number of training examples: 281241\n"
     ]
    },
    {
     "data": {
      "text/html": [
       "<div>\n",
       "<style scoped>\n",
       "    .dataframe tbody tr th:only-of-type {\n",
       "        vertical-align: middle;\n",
       "    }\n",
       "\n",
       "    .dataframe tbody tr th {\n",
       "        vertical-align: top;\n",
       "    }\n",
       "\n",
       "    .dataframe thead th {\n",
       "        text-align: right;\n",
       "    }\n",
       "</style>\n",
       "<table border=\"1\" class=\"dataframe\">\n",
       "  <thead>\n",
       "    <tr style=\"text-align: right;\">\n",
       "      <th></th>\n",
       "      <th>path</th>\n",
       "      <th>sent</th>\n",
       "    </tr>\n",
       "  </thead>\n",
       "  <tbody>\n",
       "    <tr>\n",
       "      <th>0</th>\n",
       "      <td>dataset_100/103-1240-0000.flac</td>\n",
       "      <td>chapter one missus rachel lynde is surprised m...</td>\n",
       "    </tr>\n",
       "    <tr>\n",
       "      <th>1</th>\n",
       "      <td>dataset_100/103-1240-0001.flac</td>\n",
       "      <td>that had its source away back in the woods of ...</td>\n",
       "    </tr>\n",
       "    <tr>\n",
       "      <th>2</th>\n",
       "      <td>dataset_100/103-1240-0002.flac</td>\n",
       "      <td>for not even a brook could run past missus rac...</td>\n",
       "    </tr>\n",
       "    <tr>\n",
       "      <th>3</th>\n",
       "      <td>dataset_100/103-1240-0003.flac</td>\n",
       "      <td>and that if she noticed anything odd or out of...</td>\n",
       "    </tr>\n",
       "    <tr>\n",
       "      <th>4</th>\n",
       "      <td>dataset_100/103-1240-0004.flac</td>\n",
       "      <td>but missus rachel lynde was one of those capab...</td>\n",
       "    </tr>\n",
       "  </tbody>\n",
       "</table>\n",
       "</div>"
      ],
      "text/plain": [
       "                             path  \\\n",
       "0  dataset_100/103-1240-0000.flac   \n",
       "1  dataset_100/103-1240-0001.flac   \n",
       "2  dataset_100/103-1240-0002.flac   \n",
       "3  dataset_100/103-1240-0003.flac   \n",
       "4  dataset_100/103-1240-0004.flac   \n",
       "\n",
       "                                                sent  \n",
       "0  chapter one missus rachel lynde is surprised m...  \n",
       "1  that had its source away back in the woods of ...  \n",
       "2  for not even a brook could run past missus rac...  \n",
       "3  and that if she noticed anything odd or out of...  \n",
       "4  but missus rachel lynde was one of those capab...  "
      ]
     },
     "execution_count": 3,
     "metadata": {},
     "output_type": "execute_result"
    }
   ],
   "source": [
    "train_100 = pd.read_csv(os.path.join(root_dir, 'train_100.csv'), header=None, names=['path', 'sent'])\n",
    "train_360 = pd.read_csv(os.path.join(root_dir, 'train_360.csv'), header=None, names=['path', 'sent'])\n",
    "train_500 = pd.read_csv(os.path.join(root_dir, 'train_500.csv'), header=None, names=['path', 'sent'])\n",
    "\n",
    "# combine all of them\n",
    "train_df = pd.concat([train_100, train_360, train_500])\n",
    "print(\"Number of training examples:\", train_df.shape[0])\n",
    "train_df.head()"
   ]
  },
  {
   "cell_type": "code",
   "execution_count": 4,
   "metadata": {},
   "outputs": [
    {
     "name": "stdout",
     "output_type": "stream",
     "text": [
      "Number of training examples: 165807\n"
     ]
    }
   ],
   "source": [
    "# Removing very large sentences\n",
    "def remove_long_sent(train_df, max_len):\n",
    "    data = []\n",
    "    for idx in range(train_df.shape[0]):\n",
    "        path, sent = train_df.iloc[idx]\n",
    "        if len(sent) > max_len:\n",
    "            continue\n",
    "        data.append((path, sent))\n",
    "    return pd.DataFrame(data, columns=['path', 'sent'])\n",
    "\n",
    "max_len = 200\n",
    "train_df = remove_long_sent(train_df, max_len)\n",
    "print(\"Number of training examples:\",  train_df.shape[0])"
   ]
  },
  {
   "cell_type": "markdown",
   "metadata": {},
   "source": [
    "### DataLoaders and hyperparams"
   ]
  },
  {
   "cell_type": "code",
   "execution_count": 5,
   "metadata": {},
   "outputs": [
    {
     "name": "stdout",
     "output_type": "stream",
     "text": [
      "Number of chars 32\n"
     ]
    }
   ],
   "source": [
    "def get_chars(include_digits=True):\n",
    "    if include_digits:\n",
    "        chars = ['<sos>', '0', '1', '2', '3', '4', '5', '6', '7', '8', '9', \\\n",
    "                 'a', 'b', 'c', 'd', 'e', 'f', 'g', 'h', 'i', 'j', 'k', \\\n",
    "                'l', 'm', 'n', 'o', 'p', 'q', 'r', 's', 't', 'u', 'v', 'w', \\\n",
    "                 'x', 'y', 'z', ' ', \"'\", '<eos>', '<pad>', '<unk>']\n",
    "    else:\n",
    "        chars = ['<sos>', 'a', 'b', 'c', 'd', 'e', 'f', 'g', 'h', 'i', 'j', 'k', \\\n",
    "                'l', 'm', 'n', 'o', 'p', 'q', 'r', 's', 't', 'u', 'v', 'w', 'x', \\\n",
    "                'y', 'z', ' ', \"'\", '<eos>', '<pad>', '<unk>']\n",
    "    print('Number of chars', len(chars))\n",
    "    return chars\n",
    "\n",
    "\n",
    "chars = get_chars(include_digits=False)\n",
    "char_to_token = {c:i for i,c in enumerate(chars)} \n",
    "token_to_char = {i:c for c,i in char_to_token.items()}\n",
    "sos_token = char_to_token['<sos>']\n",
    "eos_token = char_to_token['<eos>']\n",
    "pad_token = char_to_token['<pad>']"
   ]
  },
  {
   "cell_type": "code",
   "execution_count": 11,
   "metadata": {},
   "outputs": [],
   "source": [
    "tensorboard_dir = os.path.join('tb_summary')\n",
    "train_dataset = SpeechDataset(train_df, root_dir, char_to_token)\n",
    "train_loader = AudioDataLoader(pad_token, train_dataset, batch_size=96, shuffle=True)"
   ]
  },
  {
   "cell_type": "markdown",
   "metadata": {},
   "source": [
    "### Instantiate model"
   ]
  },
  {
   "cell_type": "code",
   "execution_count": 8,
   "metadata": {},
   "outputs": [],
   "source": [
    "load = False\n",
    "\n",
    "if load:\n",
    "    saved_file = 'Trained Models/Training_2019-12-25 00:09:23.921978/las_model_6'\n",
    "    model.load_state_dict(torch.load(saved_file))\n",
    "    start_epoch = int(saved_file[-1]) + 1\n",
    "    time = os.listdir(tensorboard_dir)[-1]  # use the last one\n",
    "else:\n",
    "    start_epoch = 0\n",
    "    time = str(datetime.datetime.now())\n",
    "\n",
    "save_dir = os.path.join('trained_models_librispeech', f'Training_{time}')\n",
    "try:    \n",
    "    os.mkdir(save_dir);\n",
    "except FileExistsError:\n",
    "    pass"
   ]
  },
  {
   "cell_type": "code",
   "execution_count": 12,
   "metadata": {},
   "outputs": [],
   "source": [
    "input_size = 128    # num rows in instagram\n",
    "hidden_dim = 256  # 256*2 nodes in each LSTM\n",
    "num_layers = 3\n",
    "dropout = 0.1\n",
    "layer_norm = False   \n",
    "encoder = Listener(input_size, hidden_dim, num_layers, dropout=dropout, layer_norm=layer_norm)\n",
    "\n",
    "hid_sz = 256\n",
    "embed_dim = 30\n",
    "vocab_size = len(chars)\n",
    "decoder = AttendAndSpell(embed_dim, hid_sz, encoder.output_size, vocab_size)\n",
    "\n",
    "hyperparams = {'input_size':input_size, 'hidden_dim':hidden_dim, \n",
    "               'num_layers':num_layers,'dropout':dropout, \n",
    "               'layer_norm':layer_norm, 'hid_sz':hid_sz, \n",
    "               'embed_dim':embed_dim, 'vocab_size':vocab_size}\n",
    "\n",
    "\n",
    "# Saving hyperparmas\n",
    "with open(os.path.join(save_dir, 'info.pickle'), 'wb') as f:\n",
    "    pickle.dump(hyperparams, f)\n",
    "\n",
    "criterion = nn.CrossEntropyLoss()\n",
    "model = Seq2Seq(encoder, decoder, criterion, tf_ratio = 1.0, device=DEVICE).to(DEVICE)"
   ]
  },
  {
   "cell_type": "markdown",
   "metadata": {},
   "source": [
    "### Training"
   ]
  },
  {
   "cell_type": "code",
   "execution_count": null,
   "metadata": {},
   "outputs": [
    {
     "name": "stdout",
     "output_type": "stream",
     "text": [
      "\n",
      "Teacher forcing ratio: 1.0\n",
      "Training, Logging: Mean loss of previous 20 batches \n",
      "\n",
      "Train Epoch: 0 [1824/165807 (1%)]\tMean Loss : 7.189835\t time 0:01:02.560085:\n",
      "Train Epoch: 0 [3744/165807 (2%)]\tMean Loss : 7.101118\t time 0:01:02.301483:\n",
      "Train Epoch: 0 [5664/165807 (3%)]\tMean Loss : 7.016685\t time 0:01:02.019278:\n",
      "Train Epoch: 0 [7584/165807 (5%)]\tMean Loss : 6.911127\t time 0:01:01.211482:\n",
      "Train Epoch: 0 [9504/165807 (6%)]\tMean Loss : 6.817005\t time 0:01:01.469030:\n",
      "Train Epoch: 0 [11424/165807 (7%)]\tMean Loss : 6.718276\t time 0:01:01.441609:\n",
      "Train Epoch: 0 [13344/165807 (8%)]\tMean Loss : 6.623479\t time 0:01:01.223482:\n",
      "Train Epoch: 0 [15264/165807 (9%)]\tMean Loss : 6.560180\t time 0:01:01.422284:\n",
      "Train Epoch: 0 [17184/165807 (10%)]\tMean Loss : 6.511614\t time 0:01:01.696121:\n",
      "Train Epoch: 0 [19104/165807 (12%)]\tMean Loss : 6.458208\t time 0:01:01.558911:\n",
      "Train Epoch: 0 [21024/165807 (13%)]\tMean Loss : 6.433933\t time 0:01:01.602635:\n",
      "Train Epoch: 0 [22944/165807 (14%)]\tMean Loss : 6.399868\t time 0:01:01.166461:\n",
      "Train Epoch: 0 [24864/165807 (15%)]\tMean Loss : 6.395820\t time 0:01:02.589362:\n",
      "Train Epoch: 0 [26784/165807 (16%)]\tMean Loss : 6.360931\t time 0:01:01.826758:\n",
      "Train Epoch: 0 [28704/165807 (17%)]\tMean Loss : 6.333138\t time 0:01:01.355702:\n",
      "Train Epoch: 0 [30624/165807 (18%)]\tMean Loss : 6.326963\t time 0:01:01.554461:\n",
      "Train Epoch: 0 [32544/165807 (20%)]\tMean Loss : 6.319268\t time 0:01:01.192115:\n",
      "Train Epoch: 0 [34464/165807 (21%)]\tMean Loss : 6.311447\t time 0:01:02.371086:\n",
      "Train Epoch: 0 [36384/165807 (22%)]\tMean Loss : 6.275894\t time 0:01:02.166464:\n",
      "Train Epoch: 0 [38304/165807 (23%)]\tMean Loss : 6.256327\t time 0:01:01.523404:\n",
      "Train Epoch: 0 [40224/165807 (24%)]\tMean Loss : 6.265814\t time 0:01:01.607951:\n",
      "Train Epoch: 0 [42144/165807 (25%)]\tMean Loss : 6.234190\t time 0:01:01.033410:\n",
      "Train Epoch: 0 [44064/165807 (27%)]\tMean Loss : 6.236669\t time 0:01:01.298789:\n",
      "Train Epoch: 0 [45984/165807 (28%)]\tMean Loss : 6.236065\t time 0:01:01.338091:\n",
      "Train Epoch: 0 [47904/165807 (29%)]\tMean Loss : 6.236808\t time 0:01:01.045226:\n",
      "Train Epoch: 0 [49824/165807 (30%)]\tMean Loss : 6.221115\t time 0:01:01.103072:\n",
      "Train Epoch: 0 [51744/165807 (31%)]\tMean Loss : 6.223865\t time 0:01:01.065498:\n",
      "Train Epoch: 0 [53664/165807 (32%)]\tMean Loss : 6.211369\t time 0:01:01.287789:\n",
      "Train Epoch: 0 [55584/165807 (34%)]\tMean Loss : 6.206637\t time 0:01:01.013001:\n",
      "Train Epoch: 0 [57504/165807 (35%)]\tMean Loss : 6.207366\t time 0:01:01.435007:\n",
      "Train Epoch: 0 [59424/165807 (36%)]\tMean Loss : 6.180127\t time 0:01:00.877943:\n",
      "Train Epoch: 0 [61344/165807 (37%)]\tMean Loss : 6.214857\t time 0:01:01.384666:\n",
      "Train Epoch: 0 [63264/165807 (38%)]\tMean Loss : 6.214328\t time 0:01:01.572873:\n",
      "Train Epoch: 0 [65184/165807 (39%)]\tMean Loss : 6.194025\t time 0:01:01.226682:\n",
      "Train Epoch: 0 [67104/165807 (40%)]\tMean Loss : 6.196145\t time 0:01:01.535729:\n",
      "Train Epoch: 0 [69024/165807 (42%)]\tMean Loss : 6.191881\t time 0:01:01.065460:\n",
      "Train Epoch: 0 [70944/165807 (43%)]\tMean Loss : 6.186215\t time 0:01:01.097211:\n",
      "Train Epoch: 0 [72864/165807 (44%)]\tMean Loss : 6.176888\t time 0:01:01.491993:\n",
      "Train Epoch: 0 [74784/165807 (45%)]\tMean Loss : 6.194226\t time 0:01:01.538967:\n",
      "Train Epoch: 0 [76704/165807 (46%)]\tMean Loss : 6.184951\t time 0:01:01.651921:\n",
      "Train Epoch: 0 [78624/165807 (47%)]\tMean Loss : 6.182627\t time 0:01:01.421824:\n",
      "Train Epoch: 0 [80544/165807 (49%)]\tMean Loss : 6.171371\t time 0:01:00.794585:\n",
      "Train Epoch: 0 [82464/165807 (50%)]\tMean Loss : 6.171134\t time 0:01:01.225272:\n",
      "Train Epoch: 0 [84384/165807 (51%)]\tMean Loss : 6.187735\t time 0:01:01.413042:\n",
      "Train Epoch: 0 [86304/165807 (52%)]\tMean Loss : 6.188216\t time 0:01:01.361663:\n",
      "Train Epoch: 0 [88224/165807 (53%)]\tMean Loss : 6.161689\t time 0:01:01.110658:\n",
      "Train Epoch: 0 [90144/165807 (54%)]\tMean Loss : 6.181079\t time 0:01:01.321023:\n",
      "Train Epoch: 0 [92064/165807 (55%)]\tMean Loss : 6.167576\t time 0:01:00.977158:\n",
      "Train Epoch: 0 [93984/165807 (57%)]\tMean Loss : 6.157154\t time 0:01:00.940411:\n",
      "Train Epoch: 0 [95904/165807 (58%)]\tMean Loss : 6.176392\t time 0:01:01.377386:\n",
      "Train Epoch: 0 [97824/165807 (59%)]\tMean Loss : 6.167977\t time 0:01:00.888514:\n",
      "Train Epoch: 0 [99744/165807 (60%)]\tMean Loss : 6.182421\t time 0:01:01.372958:\n",
      "Train Epoch: 0 [101664/165807 (61%)]\tMean Loss : 6.175264\t time 0:01:01.144853:\n",
      "Train Epoch: 0 [103584/165807 (62%)]\tMean Loss : 6.168330\t time 0:01:01.494470:\n",
      "Train Epoch: 0 [105504/165807 (64%)]\tMean Loss : 6.175702\t time 0:01:01.098839:\n",
      "Train Epoch: 0 [107424/165807 (65%)]\tMean Loss : 6.156962\t time 0:01:01.155222:\n",
      "Train Epoch: 0 [109344/165807 (66%)]\tMean Loss : 6.180516\t time 0:01:01.538584:\n",
      "Train Epoch: 0 [111264/165807 (67%)]\tMean Loss : 6.177557\t time 0:01:01.798876:\n",
      "Train Epoch: 0 [113184/165807 (68%)]\tMean Loss : 6.161199\t time 0:01:01.235974:\n",
      "Train Epoch: 0 [115104/165807 (69%)]\tMean Loss : 6.147786\t time 0:01:01.447574:\n",
      "Train Epoch: 0 [117024/165807 (71%)]\tMean Loss : 6.136805\t time 0:01:01.234944:\n",
      "Train Epoch: 0 [118944/165807 (72%)]\tMean Loss : 6.117644\t time 0:01:01.229842:\n",
      "Train Epoch: 0 [120864/165807 (73%)]\tMean Loss : 6.120398\t time 0:01:01.737590:\n",
      "Train Epoch: 0 [122784/165807 (74%)]\tMean Loss : 6.096702\t time 0:01:01.249813:\n",
      "Train Epoch: 0 [124704/165807 (75%)]\tMean Loss : 6.105231\t time 0:01:01.639062:\n",
      "Train Epoch: 0 [126624/165807 (76%)]\tMean Loss : 6.088021\t time 0:01:01.220026:\n",
      "Train Epoch: 0 [128544/165807 (77%)]\tMean Loss : 6.103771\t time 0:01:01.536278:\n",
      "Train Epoch: 0 [130464/165807 (79%)]\tMean Loss : 6.086915\t time 0:01:01.668376:\n",
      "Train Epoch: 0 [132384/165807 (80%)]\tMean Loss : 6.078633\t time 0:01:00.946305:\n",
      "Train Epoch: 0 [134304/165807 (81%)]\tMean Loss : 6.080196\t time 0:01:01.003217:\n",
      "Train Epoch: 0 [136224/165807 (82%)]\tMean Loss : 6.078803\t time 0:01:00.974072:\n",
      "Train Epoch: 0 [138144/165807 (83%)]\tMean Loss : 6.078160\t time 0:01:00.783832:\n",
      "Train Epoch: 0 [140064/165807 (84%)]\tMean Loss : 6.082360\t time 0:01:01.078324:\n",
      "Train Epoch: 0 [141984/165807 (86%)]\tMean Loss : 6.078795\t time 0:01:01.290190:\n",
      "Train Epoch: 0 [143904/165807 (87%)]\tMean Loss : 6.067163\t time 0:01:01.345587:\n",
      "Train Epoch: 0 [145824/165807 (88%)]\tMean Loss : 6.093555\t time 0:01:02.025548:\n",
      "Train Epoch: 0 [147744/165807 (89%)]\tMean Loss : 6.087516\t time 0:01:01.592618:\n",
      "Train Epoch: 0 [149664/165807 (90%)]\tMean Loss : 6.071339\t time 0:01:02.090158:\n",
      "Train Epoch: 0 [151584/165807 (91%)]\tMean Loss : 6.091592\t time 0:01:01.449091:\n",
      "Train Epoch: 0 [153504/165807 (93%)]\tMean Loss : 6.052875\t time 0:01:01.716172:\n",
      "Train Epoch: 0 [155424/165807 (94%)]\tMean Loss : 6.037038\t time 0:01:03.186964:\n",
      "Train Epoch: 0 [157344/165807 (95%)]\tMean Loss : 6.051486\t time 0:01:01.426183:\n",
      "Train Epoch: 0 [159264/165807 (96%)]\tMean Loss : 6.042163\t time 0:01:01.476007:\n",
      "Train Epoch: 0 [161184/165807 (97%)]\tMean Loss : 6.042954\t time 0:01:01.172061:\n",
      "Train Epoch: 0 [163104/165807 (98%)]\tMean Loss : 6.058037\t time 0:01:01.797402:\n",
      "Train Epoch: 0 [165024/165807 (99%)]\tMean Loss : 6.042129\t time 0:01:01.758030:\n",
      "\n",
      "Teacher forcing ratio: 0.95\n",
      "Training, Logging: Mean loss of previous 20 batches \n",
      "\n",
      "Train Epoch: 1 [1824/165807 (1%)]\tMean Loss : 6.076203\t time 0:01:00.084731:\n",
      "Train Epoch: 1 [3744/165807 (2%)]\tMean Loss : 6.074358\t time 0:01:00.257729:\n",
      "Train Epoch: 1 [5664/165807 (3%)]\tMean Loss : 6.071765\t time 0:01:00.356143:\n",
      "Train Epoch: 1 [7584/165807 (5%)]\tMean Loss : 6.091711\t time 0:01:00.609730:\n",
      "Train Epoch: 1 [9504/165807 (6%)]\tMean Loss : 6.108145\t time 0:01:01.376828:\n",
      "Train Epoch: 1 [11424/165807 (7%)]\tMean Loss : 6.076727\t time 0:01:00.837237:\n",
      "Train Epoch: 1 [13344/165807 (8%)]\tMean Loss : 6.071821\t time 0:01:00.583164:\n",
      "Train Epoch: 1 [15264/165807 (9%)]\tMean Loss : 6.086181\t time 0:01:01.097408:\n",
      "Train Epoch: 1 [17184/165807 (10%)]\tMean Loss : 6.080167\t time 0:01:00.464844:\n",
      "Train Epoch: 1 [19104/165807 (12%)]\tMean Loss : 6.073585\t time 0:01:00.963433:\n",
      "Train Epoch: 1 [21024/165807 (13%)]\tMean Loss : 6.092842\t time 0:01:02.474829:\n",
      "Train Epoch: 1 [22944/165807 (14%)]\tMean Loss : 6.069480\t time 0:01:00.067484:\n",
      "Train Epoch: 1 [24864/165807 (15%)]\tMean Loss : 6.070804\t time 0:01:00.436895:\n",
      "Train Epoch: 1 [26784/165807 (16%)]\tMean Loss : 6.074104\t time 0:01:00.519507:\n"
     ]
    }
   ],
   "source": [
    "# optimizer = optim.ASGD(model.parameters(), lr=0.2)  # lr = 0.2 used in paper\n",
    "optimizer = optim.Adadelta(model.parameters())\n",
    "scheduler = optim.lr_scheduler.StepLR(optimizer, step_size=1, gamma=0.98)\n",
    "log_interval = 5\n",
    "print_interval = 20\n",
    "\n",
    "epochs = 20\n",
    "load = False\n",
    "\n",
    "summary_dir = os.path.join(tensorboard_dir, time)\n",
    "writer = SummaryWriter(summary_dir)\n",
    "\n",
    "\n",
    "for epoch in range(start_epoch, epochs):\n",
    "    print(\"\\nTeacher forcing ratio:\", model.tf_ratio)\n",
    "    train(model, DEVICE, train_loader, optimizer, epoch, print_interval, writer, log_interval)\n",
    "    scheduler.step()                                    # Decrease learning rate\n",
    "    torch.save(model.state_dict(), os.path.join(save_dir, f'las_model_{epoch}'))\n",
    "    model.tf_ratio = max(model.tf_ratio - 0.05, 0.8)    # Decrease teacher force ratio"
   ]
  },
  {
   "cell_type": "markdown",
   "metadata": {},
   "source": [
    "### TEST"
   ]
  },
  {
   "cell_type": "code",
   "execution_count": 6,
   "metadata": {},
   "outputs": [],
   "source": [
    "def decode_pred_sent(out):\n",
    "    pred_sent = []\n",
    "    for t in out:\n",
    "        lol = t.max(dim=1)[1].item()\n",
    "        pred_sent.append(token_to_char[lol])\n",
    "    return ''.join(pred_sent)\n",
    "\n",
    "\n",
    "def decode_true_sent(y):\n",
    "    sent = []\n",
    "    for t in y:\n",
    "        sent.append(token_to_char[t.item()])\n",
    "    return ''.join(sent)"
   ]
  },
  {
   "cell_type": "code",
   "execution_count": 9,
   "metadata": {},
   "outputs": [],
   "source": [
    "DEVICE = torch.device('cpu')"
   ]
  },
  {
   "cell_type": "code",
   "execution_count": 13,
   "metadata": {},
   "outputs": [
    {
     "name": "stdout",
     "output_type": "stream",
     "text": [
      "True sent :  <sos>who was now approaching womanhood he would sometimes talk with her differently from the manner in which he would speak to a mere girl but on her part she seemed not to notice the difference and for their daily amusement either go<eos>\n",
      "\n",
      "Pred sent :   uholshs sornsnpropsh ng shmpndsun sorshuld shmp hnpl shll shlh hor shgfordds f soom shv sord r sn sholl sorshmld shrrssh nsnd r dsorlpsurosf sor srrshsho shnnud sor shvsor sorshvososfordd krsnd sor shv r sonnh snosh ond sngh<eos>r soo\n",
      "Loss : 722.2744140625\n",
      "\n",
      "\n",
      "True sent :  <sos>now sworn to the service of his most christian majesty<eos>\n",
      "\n",
      "Pred sent :   uor shordssh shj shnoongdshosos sors soooshgnn soruss  \n",
      "Loss : 178.7652587890625\n",
      "\n",
      "\n",
      "True sent :  <sos>and a paper cap on his head has the strong conscience and the strong sense the blended susceptibility and self command of our friend adam he was not an average man yet such men as he are reared here and there in every generation of our peasant artisans<eos>\n",
      "\n",
      "Pred sent :   und shsroprssorpsf sos sorrdshmpshv shoong sonsoordsossnd shoushoong shndonshv suoss soshrposp nlffnu snd shndosonsond sf sfr soognd snondsor orhsor sndsnor lonson souhshrhoupd shosousno soslsd sor  snd sho r sn sndso sonfrslunn sf sf shrrrsnd snohnhnd \n",
      "Loss : 809.318603515625\n",
      "\n",
      "\n",
      "True sent :  <sos>uncommon patience in planning a revenge that is worth while m is for moses who slew the egyptian as sweet as a rose is the meekness of moses no monument shows his post mortem inscription<eos>\n",
      "\n",
      "Pred sent :   undopponssrrhor hssn sroogor ssnsouor lrshvn sn shoooou hnfhsosn sor sors  sholshossshvosnpordnn sn shordhsndsnsous sn shv sonoross shosors  sorsorsspn  shoulosos srrsosornhrpsn ooosprnn \n",
      "Loss : 608.6458129882812\n",
      "\n",
      "\n",
      "True sent :  <sos>i'm not a coward as a general rule went on the promoter but i always said that if i ever met the sucker that bought that lot i'd run like a turkey now you see that old babe in the wood over there well he's the boy that drew the prize<eos>\n",
      "\n",
      "Pred sent :   ursosor snsonsrd sn sndorddsllsosh shooosf sho sroppnhd sur hnshoor  sholsshvn sn snsnduosonhshv shrhrdsshodlulush  shvn sonhsns sosgsogfosnshrn d sornsour  lfshvn shooshmlrsn shv shud sho rshv ousholosors shv suu shvn soossshv sroppd\n",
      "Loss : 762.9634399414062\n",
      "\n",
      "\n",
      "True sent :  <sos>if we discover that they have the least desire to get the better of us<eos>\n",
      "\n",
      "Pred sent :   uroprrsossooorsshvn shv  sodf shv sosrs sossrsdsh son shv surhor sf sn \n",
      "Loss : 230.7517547607422\n",
      "\n",
      "\n",
      "True sent :  <sos>the promise long with the fulfilment short will make thee triumph in thy lofty seat francis came afterward when i was dead for me but one of the black cherubim said to him take him not do me no wrong<eos>\n",
      "\n",
      "Pred sent :   uhp sroppnhdsong shlh hoolsollorlord shous shll sons shv orh<eos><sos>rplosn shv song  shndrsoonghnhsorp snfor ord shon shshs sosrssor sonsur hf  sf shv suonk shousslnpshmd sh sos shlfosos sor shmsorsorsholdh\n",
      "Loss : 639.7150268554688\n",
      "\n",
      "\n",
      "True sent :  <sos>it was plain to see that mister sandford esteemed her less and less every day and as he was the person who most influenced the opinion of her guardian he became to her very soon an object not merely of dislike but of abhorrence<eos>\n",
      "\n",
      "Pred sent :   ud shs sronn sh sho shvn sors r shmd urd snshrsod sor sonsosnd soss snors son snd sndsorshs shv srrsonssholsors sn oosddk  shvouklngnn sf sor sorrd nn sorsurolpdsh sor sors shmn sndsflurkusor sonosf sf shghonf sur hf snlousoddks\n",
      "Loss : 720.8135986328125\n",
      "\n",
      "\n",
      "True sent :  <sos>there came a letter addressed to doctor livesey with this addition to be opened in the case of his absence by tom redruth or young hawkins<eos>\n",
      "\n",
      "Pred sent :   uhppprsorp snsoss r snoooss soshrsonkor sogo  l shgo hhvs snoonunn sh sursfpn d sn shv sors sf sos snlosdh su sh ssosuosh hf sourd sodn ng \n",
      "Loss : 451.2442626953125\n",
      "\n",
      "\n",
      "True sent :  <sos>what is he that every cheek turns pale at the mention of his name asked capitola black donald oh my child may you never know more of black donald than i can tell you black donald is the chief of a band of ruthless desperadoes that infest these mountain roads<eos>\n",
      "\n",
      "Pred sent :   uhor sn soushjn snors soorr shrn  srrsdsn shv sonoonn sf shghsomplsn od sorroorlgsuookosongll sfrsorsoosloshm soursosor snoo sorn sf shork songoo shvn snsonrshllosoursuonk songll sn shv sooososf shsurd sf sosh f shsosslrslons shvn sn ors shv orsornd sn sour  \n",
      "Loss : 821.7781372070312\n",
      "\n",
      "\n"
     ]
    }
   ],
   "source": [
    "num_sent = 10\n",
    "model.eval()\n",
    "model.to(DEVICE)\n",
    "model.device = DEVICE\n",
    "model.tf_ratio = 0.9\n",
    "\n",
    "for _ in range(num_sent):\n",
    "    \n",
    "    idx = random.randint(0, train_df.shape[0])\n",
    "    trial_dataset = SpeechDataset(train_df, dataset_dir, sos_token, char_to_token, eos_token, file_extension='.flac')\n",
    "\n",
    "    x, y = trial_dataset.__getitem__(idx)\n",
    "    # plt.imshow(x[0,:,:].detach())\n",
    "\n",
    "    # Model output\n",
    "    target = y.unsqueeze(dim=0).to(DEVICE)\n",
    "    data = x.permute(0, 2, 1).to(DEVICE)\n",
    "    loss, output = model(data, target)\n",
    "    print(\"True sent : \", decode_true_sent(y), end='\\n\\n')\n",
    "    print(\"Pred sent : \", decode_pred_sent(output))\n",
    "    print(\"Loss :\", loss.item())    \n",
    "    print(\"\\n\")"
   ]
  }
 ],
 "metadata": {
  "file_extension": ".py",
  "kernelspec": {
   "display_name": "Python 3",
   "language": "python",
   "name": "python3"
  },
  "language_info": {
   "codemirror_mode": {
    "name": "ipython",
    "version": 3
   },
   "file_extension": ".py",
   "mimetype": "text/x-python",
   "name": "python",
   "nbconvert_exporter": "python",
   "pygments_lexer": "ipython3",
   "version": "3.6.8"
  },
  "mimetype": "text/x-python",
  "name": "python",
  "npconvert_exporter": "python",
  "pygments_lexer": "ipython3",
  "version": 3
 },
 "nbformat": 4,
 "nbformat_minor": 2
}
