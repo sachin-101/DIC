{
 "cells": [
  {
   "cell_type": "code",
   "execution_count": 1,
   "metadata": {},
   "outputs": [],
   "source": [
    "import os\n",
    "import sys\n",
    "import datetime\n",
    "import string\n",
    "import random\n",
    "import pickle\n",
    "import numpy as np\n",
    "import pandas as pd\n",
    "import matplotlib.pyplot as plt\n",
    "\n",
    "NAME = 'Amsgrad_main_dataset' # helps to differentiate between various training instances\n",
    "\n",
    "import torch\n",
    "import torch.nn as nn\n",
    "import torch.optim as optim\n",
    "from torch.utils.data import DataLoader\n",
    "from torch.utils.tensorboard import SummaryWriter\n",
    "from torchtext.data import Field, BucketIterator, TabularDataset\n",
    "\n",
    "sys.path.append(os.path.abspath(os.path.join('..')))\n",
    "\n",
    "from models.las_model.data import SpeechDataset, AudioDataLoader\n",
    "from models.las_model.listener import Listener\n",
    "from models.las_model.attend_and_spell import AttendAndSpell\n",
    "from models.las_model.seq2seq import Seq2Seq\n",
    "# from models.las_model.utils import  train"
   ]
  },
  {
   "cell_type": "code",
   "execution_count": 2,
   "metadata": {},
   "outputs": [
    {
     "name": "stdout",
     "output_type": "stream",
     "text": [
      "GeForce GTX 1080 Ti\n",
      "Tesla P100-PCIE-16GB\n",
      "Tesla P100-PCIE-16GB\n",
      "Tesla V100-PCIE-32GB\n",
      "Tesla V100-PCIE-32GB\n",
      "Tesla V100-PCIE-32GB\n",
      "Tesla V100-PCIE-32GB\n",
      "Tesla V100-PCIE-16GB\n"
     ]
    }
   ],
   "source": [
    "os.environ['CUDA_DEVICE_ORDER'] = 'PCI_BUS_ID'\n",
    "for i in range(torch.cuda.device_count()):\n",
    "    print(torch.cuda.get_device_name(i))"
   ]
  },
  {
   "cell_type": "code",
   "execution_count": 3,
   "metadata": {},
   "outputs": [
    {
     "name": "stdout",
     "output_type": "stream",
     "text": [
      "DEVICE : cuda:6\n"
     ]
    }
   ],
   "source": [
    "DEVICE = torch.device('cuda:6') if torch.cuda.is_available() else 'cpu'\n",
    "print('DEVICE :', DEVICE)"
   ]
  },
  {
   "cell_type": "markdown",
   "metadata": {},
   "source": [
    "### Preprocessing"
   ]
  },
  {
   "cell_type": "code",
   "execution_count": 4,
   "metadata": {},
   "outputs": [
    {
     "name": "stdout",
     "output_type": "stream",
     "text": [
      "Number of Training examples: 149569\n"
     ]
    },
    {
     "data": {
      "text/html": [
       "<div>\n",
       "<style scoped>\n",
       "    .dataframe tbody tr th:only-of-type {\n",
       "        vertical-align: middle;\n",
       "    }\n",
       "\n",
       "    .dataframe tbody tr th {\n",
       "        vertical-align: top;\n",
       "    }\n",
       "\n",
       "    .dataframe thead th {\n",
       "        text-align: right;\n",
       "    }\n",
       "</style>\n",
       "<table border=\"1\" class=\"dataframe\">\n",
       "  <thead>\n",
       "    <tr style=\"text-align: right;\">\n",
       "      <th></th>\n",
       "      <th>path</th>\n",
       "      <th>sent</th>\n",
       "    </tr>\n",
       "  </thead>\n",
       "  <tbody>\n",
       "    <tr>\n",
       "      <th>0</th>\n",
       "      <td>0000f47c22.flac</td>\n",
       "      <td>මහවැලි ගඟට ගොස් ආපසු එන ගමනේදී</td>\n",
       "    </tr>\n",
       "    <tr>\n",
       "      <th>1</th>\n",
       "      <td>000101700f.flac</td>\n",
       "      <td>උන්වහන්සේ කපාපු</td>\n",
       "    </tr>\n",
       "    <tr>\n",
       "      <th>2</th>\n",
       "      <td>000107b539.flac</td>\n",
       "      <td>එය එතනින් අවසන් නොවී</td>\n",
       "    </tr>\n",
       "    <tr>\n",
       "      <th>3</th>\n",
       "      <td>00016825d3.flac</td>\n",
       "      <td>සිතින් අයහපතෙහි හැසිරීම නිසයි</td>\n",
       "    </tr>\n",
       "    <tr>\n",
       "      <th>4</th>\n",
       "      <td>0002205a57.flac</td>\n",
       "      <td>ඊට අවසරයද හිමිවූ බව ඇය කියන්නීය</td>\n",
       "    </tr>\n",
       "  </tbody>\n",
       "</table>\n",
       "</div>"
      ],
      "text/plain": [
       "              path                             sent\n",
       "0  0000f47c22.flac   මහවැලි ගඟට ගොස් ආපසු එන ගමනේදී\n",
       "1  000101700f.flac                  උන්වහන්සේ කපාපු\n",
       "2  000107b539.flac             එය එතනින් අවසන් නොවී\n",
       "3  00016825d3.flac    සිතින් අයහපතෙහි හැසිරීම නිසයි\n",
       "4  0002205a57.flac  ඊට අවසරයද හිමිවූ බව ඇය කියන්නීය"
      ]
     },
     "execution_count": 4,
     "metadata": {},
     "output_type": "execute_result"
    }
   ],
   "source": [
    "data_dir = '../../../Dataset/Sinhala'\n",
    "\n",
    "remove_chars = ['0', '1', '2', '3', '4', '5', '6', '7', '8', '9', \\\n",
    "                 'a', 'b', 'c', 'd', 'e', 'f', 'g', 'h', 'i', 'j', 'k', 'l', 'm', \\\n",
    "                'n', 'o', 'p', 'q', 'r', 's', 't', 'u', 'v', 'w',  'x', 'y', 'z', \\\n",
    "                '“', '”', '\\u200b', '\\u200c', '\\u200d', 'µ', '\\x94', '»', 'ª', '’', '‘']\n",
    "\n",
    "\n",
    "def preprocess(s):\n",
    "    s = s.replace('\\n', '')  # remove '\\n'\n",
    "    return s.translate(str.maketrans('', '', string.punctuation)) # remove punctuation\n",
    "\n",
    "\n",
    "# reading the main transcript\n",
    "lines = []\n",
    "with open(os.path.join(data_dir, 'utt_spk_text.tsv'), 'r', encoding='utf-8') as f:\n",
    "    lines = f.readlines()\n",
    "\n",
    "examples = []\n",
    "for l in lines:\n",
    "    append = True\n",
    "    id_, _, sent = l.split('\\t')\n",
    "    sent = preprocess(sent)\n",
    "    for c in sent:\n",
    "        if c in remove_chars:  # removing sentences with eng_chars\n",
    "            append = False\n",
    "            break\n",
    "    if append:\n",
    "        examples.append((id_+'.flac', sent))\n",
    "\n",
    "data_df = pd.DataFrame(examples, columns=['path', 'sent'])\n",
    "data_df.to_csv(os.path.join(data_dir, 'data_df.csv')) # save\n",
    "print(\"Number of Training examples:\", data_df.shape[0])\n",
    "data_df.head(5)"
   ]
  },
  {
   "cell_type": "markdown",
   "metadata": {},
   "source": [
    "We have tried removing all the unnecessary characters from the dataset. The others will be replaced by unknown token, while training."
   ]
  },
  {
   "cell_type": "markdown",
   "metadata": {},
   "source": [
    "### Load data"
   ]
  },
  {
   "cell_type": "code",
   "execution_count": 5,
   "metadata": {},
   "outputs": [
    {
     "name": "stdout",
     "output_type": "stream",
     "text": [
      "Num training example: (148073, 2)\n",
      "Num validation example (1496, 2)\n"
     ]
    },
    {
     "data": {
      "text/html": [
       "<div>\n",
       "<style scoped>\n",
       "    .dataframe tbody tr th:only-of-type {\n",
       "        vertical-align: middle;\n",
       "    }\n",
       "\n",
       "    .dataframe tbody tr th {\n",
       "        vertical-align: top;\n",
       "    }\n",
       "\n",
       "    .dataframe thead th {\n",
       "        text-align: right;\n",
       "    }\n",
       "</style>\n",
       "<table border=\"1\" class=\"dataframe\">\n",
       "  <thead>\n",
       "    <tr style=\"text-align: right;\">\n",
       "      <th></th>\n",
       "      <th>path</th>\n",
       "      <th>sent</th>\n",
       "    </tr>\n",
       "  </thead>\n",
       "  <tbody>\n",
       "    <tr>\n",
       "      <th>33658</th>\n",
       "      <td>39ebbfdc10.flac</td>\n",
       "      <td>එවැනි පුද්ගලයන් අනුන්ගේ</td>\n",
       "    </tr>\n",
       "    <tr>\n",
       "      <th>17274</th>\n",
       "      <td>1da510f7af.flac</td>\n",
       "      <td>එතකොට එයාට තේරෙනවා</td>\n",
       "    </tr>\n",
       "    <tr>\n",
       "      <th>122419</th>\n",
       "      <td>d1ce802e86.flac</td>\n",
       "      <td>ඉඩම් මංකොල්ල කන්න හදනවා කියලා</td>\n",
       "    </tr>\n",
       "    <tr>\n",
       "      <th>47748</th>\n",
       "      <td>524194097a.flac</td>\n",
       "      <td>ඒවා අනාගත පරපුරට</td>\n",
       "    </tr>\n",
       "    <tr>\n",
       "      <th>135318</th>\n",
       "      <td>e79e200f8e.flac</td>\n",
       "      <td>ඹබ මෙම ස්ථානයට සංචාරයේ යෙදෙන්නට බලාපොරොත්තු වේ</td>\n",
       "    </tr>\n",
       "  </tbody>\n",
       "</table>\n",
       "</div>"
      ],
      "text/plain": [
       "                   path                                            sent\n",
       "33658   39ebbfdc10.flac                         එවැනි පුද්ගලයන් අනුන්ගේ\n",
       "17274   1da510f7af.flac                              එතකොට එයාට තේරෙනවා\n",
       "122419  d1ce802e86.flac                   ඉඩම් මංකොල්ල කන්න හදනවා කියලා\n",
       "47748   524194097a.flac                                ඒවා අනාගත පරපුරට\n",
       "135318  e79e200f8e.flac  ඹබ මෙම ස්ථානයට සංචාරයේ යෙදෙන්නට බලාපොරොත්තු වේ"
      ]
     },
     "execution_count": 5,
     "metadata": {},
     "output_type": "execute_result"
    }
   ],
   "source": [
    "from sklearn.model_selection import train_test_split\n",
    "\n",
    "data_df = pd.read_csv(os.path.join(data_dir, 'data_df.csv'), usecols=['path', 'sent'])\n",
    "train_df, val_df = train_test_split(data_df, test_size=0.01)\n",
    "print(\"Num training example:\", train_df.shape)\n",
    "print(\"Num validation example\", val_df.shape)\n",
    "train_df.head()"
   ]
  },
  {
   "cell_type": "markdown",
   "metadata": {},
   "source": [
    "### Vocabulary"
   ]
  },
  {
   "cell_type": "code",
   "execution_count": 6,
   "metadata": {},
   "outputs": [
    {
     "name": "stdout",
     "output_type": "stream",
     "text": [
      "Number of characters: 70\n"
     ]
    }
   ],
   "source": [
    "chars = ['<pad>', '<unk>', '<sos>', '<eos>', 'ම', 'ෙ', ' ', 'ක', 'ැ', 'ස',\\\n",
    "         '්', 'බ', 'ෑ', 'ව', 'ා', 'ො', 'ර', 'ි', 'ී', 'න', 'ධ', 'ග', 'ේ',\\\n",
    "         'ය', 'හ', 'උ', 'ු', 'ද', 'ට', 'ල', 'අ', 'ප', 'ණ', 'ඳ', 'ත', 'ළ', 'ඩ',\\\n",
    "         'එ', 'ං', 'ෝ', 'ඔ', 'ඹ', 'ඇ', 'ආ', 'ඉ', 'ජ', 'ඟ', 'භ', 'ඕ', 'ශ', \\\n",
    "         'ූ', 'ෂ', 'ඝ', 'ෞ', 'ඒ', 'ඬ', 'ච', 'ථ', 'ඨ', 'ඊ', 'ඤ', 'ඈ', 'ඡ', \\\n",
    "         'ෆ', 'ඵ', 'ඛ', 'ඌ', 'ඓ', 'ෛ', 'ඪ']\n",
    "\n",
    "char_to_token = {c:i for i,c in enumerate(chars)} \n",
    "token_to_char = {i:c for c,i in char_to_token.items()}\n",
    "\n",
    "sos_token = char_to_token['<sos>']\n",
    "eos_token = char_to_token['<eos>']\n",
    "pad_token = char_to_token['<pad>']\n",
    "unk_token = char_to_token['<unk>']\n",
    "\n",
    "print(\"Number of characters:\", len(chars))"
   ]
  },
  {
   "cell_type": "markdown",
   "metadata": {},
   "source": [
    "### Instantiate model"
   ]
  },
  {
   "cell_type": "code",
   "execution_count": 7,
   "metadata": {},
   "outputs": [
    {
     "data": {
      "text/plain": [
       "Seq2Seq(\n",
       "  (encoder): Listener(\n",
       "    (layers): ModuleList(\n",
       "      (0): piBLSTM(\n",
       "        (lstm): LSTM(128, 640, batch_first=True, bidirectional=True)\n",
       "        (dp): Dropout(p=0.1, inplace=False)\n",
       "      )\n",
       "      (1): piBLSTM(\n",
       "        (lstm): LSTM(2560, 640, batch_first=True, bidirectional=True)\n",
       "        (dp): Dropout(p=0.1, inplace=False)\n",
       "      )\n",
       "      (2): piBLSTM(\n",
       "        (lstm): LSTM(2560, 640, batch_first=True, bidirectional=True)\n",
       "        (dp): Dropout(p=0.1, inplace=False)\n",
       "      )\n",
       "      (3): piBLSTM(\n",
       "        (lstm): LSTM(2560, 640, batch_first=True, bidirectional=True)\n",
       "        (dp): Dropout(p=0.1, inplace=False)\n",
       "      )\n",
       "    )\n",
       "  )\n",
       "  (decoder): AttendAndSpell(\n",
       "    (attention_layer): Attention(\n",
       "      (linear1): Linear(in_features=3200, out_features=1600, bias=True)\n",
       "      (linear2): Linear(in_features=1600, out_features=1, bias=True)\n",
       "    )\n",
       "    (pre_lstm_cell): LSTMCell(2630, 640)\n",
       "    (post_lstm_cell): LSTMCell(3200, 640)\n",
       "    (mlp): Sequential(\n",
       "      (0): Linear(in_features=640, out_features=70, bias=True)\n",
       "      (1): ReLU()\n",
       "      (2): BatchNorm1d(70, eps=1e-05, momentum=0.1, affine=True, track_running_stats=True)\n",
       "      (3): Softmax(dim=1)\n",
       "    )\n",
       "  )\n",
       ")"
      ]
     },
     "execution_count": 7,
     "metadata": {},
     "output_type": "execute_result"
    }
   ],
   "source": [
    "input_size = 128    # num rows in instagram\n",
    "hidden_dim = 640  # 256*2 nodes in each LSTM\n",
    "num_layers = 4\n",
    "dropout = 0.1\n",
    "layer_norm = False   \n",
    "encoder = Listener(input_size, hidden_dim, num_layers, dropout=dropout, layer_norm=layer_norm)\n",
    "\n",
    "hid_sz = 640\n",
    "vocab_size = len(chars)\n",
    "decoder = AttendAndSpell(hid_sz, encoder.output_size, vocab_size)\n",
    "\n",
    "hyperparams = {'input_size':input_size, 'hidden_dim':hidden_dim, \n",
    "               'num_layers':num_layers,'dropout':dropout, \n",
    "               'layer_norm':layer_norm, 'hid_sz':hid_sz, \n",
    "               'vocab_size':vocab_size}\n",
    "\n",
    "model = Seq2Seq(encoder, decoder, tf_ratio = 1.0, device=DEVICE).to(DEVICE)\n",
    "model.train()"
   ]
  },
  {
   "cell_type": "markdown",
   "metadata": {},
   "source": [
    "### Training"
   ]
  },
  {
   "cell_type": "code",
   "execution_count": 8,
   "metadata": {},
   "outputs": [],
   "source": [
    "# model.load_state_dict(torch.load(os.path.join(save_dir, 'las_model_1')))\n",
    "# model.train()\n",
    "\n",
    "# load = False\n",
    "# if load:\n",
    "#     saved_file = 'Trained Models/Training_2019-12-25 00:09:23.921978/las_model_6'\n",
    "#     model.load_state_dict(torch.load(saved_file))\n",
    "#     start_epoch = int(saved_file[-1]) + 1\n",
    "#     time = os.listdir(tensorboard_dir)[-1]  # use the last one \n",
    "\n",
    "time = str(datetime.datetime.now())\n",
    "save_dir = os.path.join('trained_models', f'{NAME}_{time}')\n",
    "try:    \n",
    "    os.mkdir(save_dir);\n",
    "except FileExistsError:\n",
    "    pass\n",
    "\n",
    "# Saving hyperparmas\n",
    "with open(os.path.join(save_dir, 'info.pickle'), 'wb') as f:\n",
    "    pickle.dump(hyperparams, f)"
   ]
  },
  {
   "cell_type": "code",
   "execution_count": 14,
   "metadata": {},
   "outputs": [],
   "source": [
    "def train(model, device, train_loader, optimizer, epoch, \n",
    "          print_interval, writer=None, log_interval=-1, scheduler=None, train_dataset=None):\n",
    "    \n",
    "    model.train()\n",
    "    print(f'Training, Logging: Mean loss of previous {print_interval} batches \\n')\n",
    "    \n",
    "    running_loss = []\n",
    "    date1 = datetime.datetime.now()\n",
    "    \n",
    "\n",
    "    \n",
    "    for batch_idx, (data, target) in enumerate(train_loader):\n",
    "        data, target = data.to(device), target.to(device)\n",
    "        loss, _ = model(data, target)\n",
    "\n",
    "        optimizer.zero_grad()\n",
    "        loss.backward()\n",
    "        optimizer.step()\n",
    "\n",
    "        running_loss.append(loss.detach().item())    # update running loss\n",
    "\n",
    "        # writing to console after print_interval batches\n",
    "        if (batch_idx+1) % print_interval == 0:\n",
    "            date2 = datetime.datetime.now()\n",
    "            print('Train Epoch: {} [{}/{} ({:.0f}%)]\\tMean Loss : {:.6f}\\t lr {}\\t time {}:'.format(\n",
    "                epoch, batch_idx * len(data), len(train_loader.dataset),\n",
    "                100. * batch_idx / len(train_loader), \n",
    "                np.mean(running_loss[-print_interval:]), \n",
    "                optimizer.state_dict()['param_groups'][0]['lr'],\n",
    "                date2 - date1))\n",
    "            date1 = date2\n",
    "\n",
    "        # Writing to tensorboard\n",
    "        if (batch_idx+1) % log_interval == 0:\n",
    "            if writer:\n",
    "                global_step = epoch * len(train_loader) + batch_idx\n",
    "                writer.add_scalar('Loss', np.mean(running_loss[-log_interval:]), global_step)\n",
    "\n",
    "        if batch_idx == len(train_loader)//2:\n",
    "            # save, # check, \n",
    "            torch.save(model.state_dict(), os.path.join(save_dir, f'las_model_half_{epoch}'))\n",
    "            torch.save(optimizer.state_dict(), os.path.join(save_dir, f'optim_half_{epoch}'))\n",
    "            validate_personal(model, 2, train_dataset)\n",
    "\n",
    "#       if scheduler:\n",
    "#                 if batch_idx == len(train_loader)//2:\n",
    "#                     # save, # check, # decrease lr\n",
    "#                     torch.save(model.state_dict(), os.path.join(save_dir, f'las_model_half_{epoch}'))\n",
    "#                     torch.save(optimizer.state_dict(), os.path.join(save_dir, f'optim_half_{epoch}'))\n",
    "#                     validate_personal(model, 2, train_dataset)\n",
    "#                     for param_group in optimizer.param_groups:\n",
    "#                         param_group['lr'] = max(param_group['lr']*0.5, 0.001)\n",
    "#                     print(\"-\"*10, \"LR decreased\", '-'*10)\n",
    "#                     model.train()\n",
    "                \n",
    "    \n",
    "def decode_pred_sent(out):\n",
    "    pred_sent = []\n",
    "    out = out.squeeze(0)\n",
    "    for t in out:\n",
    "        lol = t.max(dim=0)[1].item()\n",
    "        pred_sent.append(token_to_char[lol])\n",
    "    return ''.join(pred_sent)\n",
    "\n",
    "\n",
    "def decode_true_sent(y):\n",
    "    sent = []\n",
    "    for t in y:\n",
    "        sent.append(token_to_char[t.item()])\n",
    "    return ''.join(sent)\n",
    "\n",
    "def validate_personal(model, num_sent, dataset, show=False):\n",
    "    model.eval()\n",
    "    for _ in range(num_sent):\n",
    "        idx = random.randint(0, dataset.__len__())\n",
    "\n",
    "        x, y = dataset.__getitem__(idx)\n",
    "        plt.imshow(x[0,:,:].detach().log2())\n",
    "        if show:\n",
    "            plt.show()\n",
    "        else:\n",
    "            plt.close()\n",
    "        target = y.unsqueeze(dim=0).to(DEVICE)\n",
    "        data = x.permute(0, 2, 1).to(DEVICE)\n",
    "        loss, output = model(data, target)\n",
    "        print(\"\\n\")\n",
    "        print(\"True sent : \", decode_true_sent(y))\n",
    "        print(\"Pred sent : \", decode_pred_sent(output))\n",
    "        print(\"Loss :\", loss.item())  \n",
    "    model.train()"
   ]
  },
  {
   "cell_type": "code",
   "execution_count": 10,
   "metadata": {},
   "outputs": [
    {
     "name": "stdout",
     "output_type": "stream",
     "text": [
      "torch.Size([1, 128, 294])\n",
      "torch.Size([1, 128, 338])\n",
      "torch.Size([1, 128, 269])\n",
      "torch.Size([1, 128, 263])\n",
      "torch.Size([1, 128, 401])\n",
      "torch.Size([1, 128, 176])\n",
      "torch.Size([1, 128, 338])\n",
      "torch.Size([1, 128, 163])\n",
      "torch.Size([1, 128, 263])\n",
      "torch.Size([1, 128, 263])\n"
     ]
    },
    {
     "data": {
      "text/plain": [
       "<matplotlib.image.AxesImage at 0x7fc8fc225ba8>"
      ]
     },
     "execution_count": 10,
     "metadata": {},
     "output_type": "execute_result"
    },
    {
     "data": {
      "image/png": "[encoded data removed]",
      "text/plain": [
       "<Figure size 432x288 with 1 Axes>"
      ]
     },
     "metadata": {
      "needs_background": "light"
     },
     "output_type": "display_data"
    }
   ],
   "source": [
    "# checking the width\n",
    "train_dataset = SpeechDataset(train_df, data_dir, char_to_token, n_fft=1024, hop_length=256)\n",
    "train_loader = AudioDataLoader(pad_token, train_dataset, batch_size=64, \n",
    "                               shuffle=True, drop_last=True, num_workers=8)\n",
    "for i in range(10):\n",
    "    idx = random.randint(0, train_dataset.__len__())\n",
    "    x, y = train_dataset.__getitem__(idx)\n",
    "    print(x.shape)\n",
    "plt.imshow(x[0,:,:].detach().log2())"
   ]
  },
  {
   "cell_type": "code",
   "execution_count": 13,
   "metadata": {},
   "outputs": [
    {
     "name": "stdout",
     "output_type": "stream",
     "text": [
      "save_dir trained_models/Amsgrad_main_dataset_2019-12-31 09:04:26.359994\n",
      "Training, Logging: Mean loss of previous 50 batches \n",
      "\n",
      "\n",
      "\n",
      "True sent :  පෙබරවාරි මාර්තු වස්තු ලාබ මෙන්ම ආදායම් තත්ත්වය ද උසස් වෙයි<eos>\n",
      "Pred sent :  ඌ පිිි ිවකි ි ිවකිව ිවකි වකිනි  කවව    කිි ි ා කිකනිි කින  \n",
      "Loss : 4.16019868850708\n",
      "\n",
      "\n",
      "True sent :  සාරා විසින් යම් උපායක් යොදනවා<eos>\n",
      "Pred sent :  ඌ වි කිතිවව කි  කනි  ි කිවව ා \n",
      "Loss : 4.030393600463867\n",
      "Train Epoch: 0 [76736/148073 (52%)]\tMean Loss : 3.881571\t lr 0.001\t time 0:02:21.420132:\n",
      "Train Epoch: 0 [79936/148073 (54%)]\tMean Loss : 3.868470\t lr 0.001\t time 0:00:47.351637:\n",
      "Train Epoch: 0 [83136/148073 (56%)]\tMean Loss : 3.870795\t lr 0.001\t time 0:00:51.084461:\n",
      "Train Epoch: 0 [86336/148073 (58%)]\tMean Loss : 3.860556\t lr 0.001\t time 0:00:50.312840:\n",
      "Train Epoch: 0 [89536/148073 (60%)]\tMean Loss : 3.853164\t lr 0.001\t time 0:00:52.450526:\n",
      "Train Epoch: 0 [92736/148073 (63%)]\tMean Loss : 3.834124\t lr 0.001\t time 0:00:49.243519:\n",
      "Train Epoch: 0 [95936/148073 (65%)]\tMean Loss : 3.817080\t lr 0.001\t time 0:00:50.292656:\n",
      "Train Epoch: 0 [99136/148073 (67%)]\tMean Loss : 3.806833\t lr 0.001\t time 0:00:52.427346:\n",
      "Train Epoch: 0 [102336/148073 (69%)]\tMean Loss : 3.790016\t lr 0.001\t time 0:00:52.791568:\n",
      "Train Epoch: 0 [105536/148073 (71%)]\tMean Loss : 3.775155\t lr 0.001\t time 0:00:53.019705:\n",
      "Train Epoch: 0 [108736/148073 (73%)]\tMean Loss : 3.766813\t lr 0.001\t time 0:00:52.502955:\n",
      "Train Epoch: 0 [111936/148073 (76%)]\tMean Loss : 3.753241\t lr 0.001\t time 0:00:57.530575:\n",
      "Train Epoch: 0 [115136/148073 (78%)]\tMean Loss : 3.751013\t lr 0.001\t time 0:00:52.611744:\n",
      "Train Epoch: 0 [118336/148073 (80%)]\tMean Loss : 3.740942\t lr 0.001\t time 0:00:54.130413:\n",
      "Train Epoch: 0 [121536/148073 (82%)]\tMean Loss : 3.731759\t lr 0.001\t time 0:00:52.586937:\n",
      "Train Epoch: 0 [124736/148073 (84%)]\tMean Loss : 3.727869\t lr 0.001\t time 0:00:53.850962:\n",
      "Train Epoch: 0 [127936/148073 (86%)]\tMean Loss : 3.733821\t lr 0.001\t time 0:00:50.502273:\n",
      "Train Epoch: 0 [131136/148073 (89%)]\tMean Loss : 3.707512\t lr 0.001\t time 0:00:57.632477:\n",
      "Train Epoch: 0 [134336/148073 (91%)]\tMean Loss : 3.703611\t lr 0.001\t time 0:00:54.713407:\n",
      "Train Epoch: 0 [137536/148073 (93%)]\tMean Loss : 3.698831\t lr 0.001\t time 0:00:56.315909:\n",
      "Train Epoch: 0 [140736/148073 (95%)]\tMean Loss : 3.693654\t lr 0.001\t time 0:00:54.485126:\n",
      "Train Epoch: 0 [143936/148073 (97%)]\tMean Loss : 3.691031\t lr 0.001\t time 0:00:53.113214:\n",
      "Train Epoch: 0 [147136/148073 (99%)]\tMean Loss : 3.683721\t lr 0.001\t time 0:01:01.580080:\n",
      "\n",
      "\n",
      "True sent :  කාට කාටත් පෙනී ගියහ<eos>\n",
      "Pred sent :  හුහ කි  ් කින් කෙය න\n",
      "Loss : 3.9504637718200684\n",
      "\n",
      "\n",
      "True sent :  අපට පිහිට පිළිසරණ ලබාගත හැකි ලෙස<eos>\n",
      "Pred sent :  හුු කියිය කියිය්ුයකිු ේකිතියකින්\n",
      "Loss : 4.058768272399902\n",
      "Training, Logging: Mean loss of previous 50 batches \n",
      "\n"
     ]
    },
    {
     "ename": "KeyboardInterrupt",
     "evalue": "",
     "output_type": "error",
     "traceback": [
      "\u001b[0;31m---------------------------------------------------------------------------\u001b[0m",
      "\u001b[0;31mKeyboardInterrupt\u001b[0m                         Traceback (most recent call last)",
      "\u001b[0;32m<ipython-input-13-321f2a5651a3>\u001b[0m in \u001b[0;36m<module>\u001b[0;34m\u001b[0m\n\u001b[1;32m     26\u001b[0m \u001b[0;32mfor\u001b[0m \u001b[0mepoch\u001b[0m \u001b[0;32min\u001b[0m \u001b[0mrange\u001b[0m\u001b[0;34m(\u001b[0m\u001b[0;36m0\u001b[0m\u001b[0;34m,\u001b[0m \u001b[0mepochs\u001b[0m\u001b[0;34m)\u001b[0m\u001b[0;34m:\u001b[0m\u001b[0;34m\u001b[0m\u001b[0;34m\u001b[0m\u001b[0m\n\u001b[1;32m     27\u001b[0m     train(model, DEVICE, train_loader, optimizer, epoch, print_interval, writer, \n\u001b[0;32m---> 28\u001b[0;31m           log_interval, scheduler=True, train_dataset=train_dataset)\n\u001b[0m\u001b[1;32m     29\u001b[0m \u001b[0;34m\u001b[0m\u001b[0m\n\u001b[1;32m     30\u001b[0m     \u001b[0;31m#save model\u001b[0m\u001b[0;34m\u001b[0m\u001b[0;34m\u001b[0m\u001b[0;34m\u001b[0m\u001b[0m\n",
      "\u001b[0;32m<ipython-input-12-7babb57cda1b>\u001b[0m in \u001b[0;36mtrain\u001b[0;34m(model, device, train_loader, optimizer, epoch, print_interval, writer, log_interval, scheduler, train_dataset)\u001b[0m\n\u001b[1;32m     10\u001b[0m     \u001b[0mstart_training\u001b[0m \u001b[0;34m=\u001b[0m \u001b[0;32mFalse\u001b[0m\u001b[0;34m\u001b[0m\u001b[0;34m\u001b[0m\u001b[0m\n\u001b[1;32m     11\u001b[0m \u001b[0;34m\u001b[0m\u001b[0m\n\u001b[0;32m---> 12\u001b[0;31m     \u001b[0;32mfor\u001b[0m \u001b[0mbatch_idx\u001b[0m\u001b[0;34m,\u001b[0m \u001b[0;34m(\u001b[0m\u001b[0mdata\u001b[0m\u001b[0;34m,\u001b[0m \u001b[0mtarget\u001b[0m\u001b[0;34m)\u001b[0m \u001b[0;32min\u001b[0m \u001b[0menumerate\u001b[0m\u001b[0;34m(\u001b[0m\u001b[0mtrain_loader\u001b[0m\u001b[0;34m)\u001b[0m\u001b[0;34m:\u001b[0m\u001b[0;34m\u001b[0m\u001b[0;34m\u001b[0m\u001b[0m\n\u001b[0m\u001b[1;32m     13\u001b[0m         \u001b[0;32mif\u001b[0m \u001b[0mbatch_idx\u001b[0m \u001b[0;34m==\u001b[0m \u001b[0mlen\u001b[0m\u001b[0;34m(\u001b[0m\u001b[0mtrain_loader\u001b[0m\u001b[0;34m)\u001b[0m\u001b[0;34m//\u001b[0m\u001b[0;36m2\u001b[0m\u001b[0;34m:\u001b[0m\u001b[0;34m\u001b[0m\u001b[0;34m\u001b[0m\u001b[0m\n\u001b[1;32m     14\u001b[0m             \u001b[0mstart_training\u001b[0m \u001b[0;34m=\u001b[0m \u001b[0;32mTrue\u001b[0m\u001b[0;34m\u001b[0m\u001b[0;34m\u001b[0m\u001b[0m\n",
      "\u001b[0;32m~/.local/lib/python3.6/site-packages/torch/utils/data/dataloader.py\u001b[0m in \u001b[0;36m__next__\u001b[0;34m(self)\u001b[0m\n\u001b[1;32m    802\u001b[0m \u001b[0;34m\u001b[0m\u001b[0m\n\u001b[1;32m    803\u001b[0m             \u001b[0;32massert\u001b[0m \u001b[0;32mnot\u001b[0m \u001b[0mself\u001b[0m\u001b[0;34m.\u001b[0m\u001b[0m_shutdown\u001b[0m \u001b[0;32mand\u001b[0m \u001b[0mself\u001b[0m\u001b[0;34m.\u001b[0m\u001b[0m_tasks_outstanding\u001b[0m \u001b[0;34m>\u001b[0m \u001b[0;36m0\u001b[0m\u001b[0;34m\u001b[0m\u001b[0;34m\u001b[0m\u001b[0m\n\u001b[0;32m--> 804\u001b[0;31m             \u001b[0midx\u001b[0m\u001b[0;34m,\u001b[0m \u001b[0mdata\u001b[0m \u001b[0;34m=\u001b[0m \u001b[0mself\u001b[0m\u001b[0;34m.\u001b[0m\u001b[0m_get_data\u001b[0m\u001b[0;34m(\u001b[0m\u001b[0;34m)\u001b[0m\u001b[0;34m\u001b[0m\u001b[0;34m\u001b[0m\u001b[0m\n\u001b[0m\u001b[1;32m    805\u001b[0m             \u001b[0mself\u001b[0m\u001b[0;34m.\u001b[0m\u001b[0m_tasks_outstanding\u001b[0m \u001b[0;34m-=\u001b[0m \u001b[0;36m1\u001b[0m\u001b[0;34m\u001b[0m\u001b[0;34m\u001b[0m\u001b[0m\n\u001b[1;32m    806\u001b[0m \u001b[0;34m\u001b[0m\u001b[0m\n",
      "\u001b[0;32m~/.local/lib/python3.6/site-packages/torch/utils/data/dataloader.py\u001b[0m in \u001b[0;36m_get_data\u001b[0;34m(self)\u001b[0m\n\u001b[1;32m    769\u001b[0m         \u001b[0;32melse\u001b[0m\u001b[0;34m:\u001b[0m\u001b[0;34m\u001b[0m\u001b[0;34m\u001b[0m\u001b[0m\n\u001b[1;32m    770\u001b[0m             \u001b[0;32mwhile\u001b[0m \u001b[0;32mTrue\u001b[0m\u001b[0;34m:\u001b[0m\u001b[0;34m\u001b[0m\u001b[0;34m\u001b[0m\u001b[0m\n\u001b[0;32m--> 771\u001b[0;31m                 \u001b[0msuccess\u001b[0m\u001b[0;34m,\u001b[0m \u001b[0mdata\u001b[0m \u001b[0;34m=\u001b[0m \u001b[0mself\u001b[0m\u001b[0;34m.\u001b[0m\u001b[0m_try_get_data\u001b[0m\u001b[0;34m(\u001b[0m\u001b[0;34m)\u001b[0m\u001b[0;34m\u001b[0m\u001b[0;34m\u001b[0m\u001b[0m\n\u001b[0m\u001b[1;32m    772\u001b[0m                 \u001b[0;32mif\u001b[0m \u001b[0msuccess\u001b[0m\u001b[0;34m:\u001b[0m\u001b[0;34m\u001b[0m\u001b[0;34m\u001b[0m\u001b[0m\n\u001b[1;32m    773\u001b[0m                     \u001b[0;32mreturn\u001b[0m \u001b[0mdata\u001b[0m\u001b[0;34m\u001b[0m\u001b[0;34m\u001b[0m\u001b[0m\n",
      "\u001b[0;32m~/.local/lib/python3.6/site-packages/torch/utils/data/dataloader.py\u001b[0m in \u001b[0;36m_try_get_data\u001b[0;34m(self, timeout)\u001b[0m\n\u001b[1;32m    722\u001b[0m         \u001b[0;31m#   (bool: whether successfully get data, any: data if successful else None)\u001b[0m\u001b[0;34m\u001b[0m\u001b[0;34m\u001b[0m\u001b[0;34m\u001b[0m\u001b[0m\n\u001b[1;32m    723\u001b[0m         \u001b[0;32mtry\u001b[0m\u001b[0;34m:\u001b[0m\u001b[0;34m\u001b[0m\u001b[0;34m\u001b[0m\u001b[0m\n\u001b[0;32m--> 724\u001b[0;31m             \u001b[0mdata\u001b[0m \u001b[0;34m=\u001b[0m \u001b[0mself\u001b[0m\u001b[0;34m.\u001b[0m\u001b[0m_data_queue\u001b[0m\u001b[0;34m.\u001b[0m\u001b[0mget\u001b[0m\u001b[0;34m(\u001b[0m\u001b[0mtimeout\u001b[0m\u001b[0;34m=\u001b[0m\u001b[0mtimeout\u001b[0m\u001b[0;34m)\u001b[0m\u001b[0;34m\u001b[0m\u001b[0;34m\u001b[0m\u001b[0m\n\u001b[0m\u001b[1;32m    725\u001b[0m             \u001b[0;32mreturn\u001b[0m \u001b[0;34m(\u001b[0m\u001b[0;32mTrue\u001b[0m\u001b[0;34m,\u001b[0m \u001b[0mdata\u001b[0m\u001b[0;34m)\u001b[0m\u001b[0;34m\u001b[0m\u001b[0;34m\u001b[0m\u001b[0m\n\u001b[1;32m    726\u001b[0m         \u001b[0;32mexcept\u001b[0m \u001b[0mException\u001b[0m \u001b[0;32mas\u001b[0m \u001b[0me\u001b[0m\u001b[0;34m:\u001b[0m\u001b[0;34m\u001b[0m\u001b[0;34m\u001b[0m\u001b[0m\n",
      "\u001b[0;32m/usr/lib/python3.6/multiprocessing/queues.py\u001b[0m in \u001b[0;36mget\u001b[0;34m(self, block, timeout)\u001b[0m\n\u001b[1;32m    102\u001b[0m                 \u001b[0;32mif\u001b[0m \u001b[0mblock\u001b[0m\u001b[0;34m:\u001b[0m\u001b[0;34m\u001b[0m\u001b[0;34m\u001b[0m\u001b[0m\n\u001b[1;32m    103\u001b[0m                     \u001b[0mtimeout\u001b[0m \u001b[0;34m=\u001b[0m \u001b[0mdeadline\u001b[0m \u001b[0;34m-\u001b[0m \u001b[0mtime\u001b[0m\u001b[0;34m.\u001b[0m\u001b[0mmonotonic\u001b[0m\u001b[0;34m(\u001b[0m\u001b[0;34m)\u001b[0m\u001b[0;34m\u001b[0m\u001b[0;34m\u001b[0m\u001b[0m\n\u001b[0;32m--> 104\u001b[0;31m                     \u001b[0;32mif\u001b[0m \u001b[0;32mnot\u001b[0m \u001b[0mself\u001b[0m\u001b[0;34m.\u001b[0m\u001b[0m_poll\u001b[0m\u001b[0;34m(\u001b[0m\u001b[0mtimeout\u001b[0m\u001b[0;34m)\u001b[0m\u001b[0;34m:\u001b[0m\u001b[0;34m\u001b[0m\u001b[0;34m\u001b[0m\u001b[0m\n\u001b[0m\u001b[1;32m    105\u001b[0m                         \u001b[0;32mraise\u001b[0m \u001b[0mEmpty\u001b[0m\u001b[0;34m\u001b[0m\u001b[0;34m\u001b[0m\u001b[0m\n\u001b[1;32m    106\u001b[0m                 \u001b[0;32melif\u001b[0m \u001b[0;32mnot\u001b[0m \u001b[0mself\u001b[0m\u001b[0;34m.\u001b[0m\u001b[0m_poll\u001b[0m\u001b[0;34m(\u001b[0m\u001b[0;34m)\u001b[0m\u001b[0;34m:\u001b[0m\u001b[0;34m\u001b[0m\u001b[0;34m\u001b[0m\u001b[0m\n",
      "\u001b[0;32m/usr/lib/python3.6/multiprocessing/connection.py\u001b[0m in \u001b[0;36mpoll\u001b[0;34m(self, timeout)\u001b[0m\n\u001b[1;32m    255\u001b[0m         \u001b[0mself\u001b[0m\u001b[0;34m.\u001b[0m\u001b[0m_check_closed\u001b[0m\u001b[0;34m(\u001b[0m\u001b[0;34m)\u001b[0m\u001b[0;34m\u001b[0m\u001b[0;34m\u001b[0m\u001b[0m\n\u001b[1;32m    256\u001b[0m         \u001b[0mself\u001b[0m\u001b[0;34m.\u001b[0m\u001b[0m_check_readable\u001b[0m\u001b[0;34m(\u001b[0m\u001b[0;34m)\u001b[0m\u001b[0;34m\u001b[0m\u001b[0;34m\u001b[0m\u001b[0m\n\u001b[0;32m--> 257\u001b[0;31m         \u001b[0;32mreturn\u001b[0m \u001b[0mself\u001b[0m\u001b[0;34m.\u001b[0m\u001b[0m_poll\u001b[0m\u001b[0;34m(\u001b[0m\u001b[0mtimeout\u001b[0m\u001b[0;34m)\u001b[0m\u001b[0;34m\u001b[0m\u001b[0;34m\u001b[0m\u001b[0m\n\u001b[0m\u001b[1;32m    258\u001b[0m \u001b[0;34m\u001b[0m\u001b[0m\n\u001b[1;32m    259\u001b[0m     \u001b[0;32mdef\u001b[0m \u001b[0m__enter__\u001b[0m\u001b[0;34m(\u001b[0m\u001b[0mself\u001b[0m\u001b[0;34m)\u001b[0m\u001b[0;34m:\u001b[0m\u001b[0;34m\u001b[0m\u001b[0;34m\u001b[0m\u001b[0m\n",
      "\u001b[0;32m/usr/lib/python3.6/multiprocessing/connection.py\u001b[0m in \u001b[0;36m_poll\u001b[0;34m(self, timeout)\u001b[0m\n\u001b[1;32m    412\u001b[0m \u001b[0;34m\u001b[0m\u001b[0m\n\u001b[1;32m    413\u001b[0m     \u001b[0;32mdef\u001b[0m \u001b[0m_poll\u001b[0m\u001b[0;34m(\u001b[0m\u001b[0mself\u001b[0m\u001b[0;34m,\u001b[0m \u001b[0mtimeout\u001b[0m\u001b[0;34m)\u001b[0m\u001b[0;34m:\u001b[0m\u001b[0;34m\u001b[0m\u001b[0;34m\u001b[0m\u001b[0m\n\u001b[0;32m--> 414\u001b[0;31m         \u001b[0mr\u001b[0m \u001b[0;34m=\u001b[0m \u001b[0mwait\u001b[0m\u001b[0;34m(\u001b[0m\u001b[0;34m[\u001b[0m\u001b[0mself\u001b[0m\u001b[0;34m]\u001b[0m\u001b[0;34m,\u001b[0m \u001b[0mtimeout\u001b[0m\u001b[0;34m)\u001b[0m\u001b[0;34m\u001b[0m\u001b[0;34m\u001b[0m\u001b[0m\n\u001b[0m\u001b[1;32m    415\u001b[0m         \u001b[0;32mreturn\u001b[0m \u001b[0mbool\u001b[0m\u001b[0;34m(\u001b[0m\u001b[0mr\u001b[0m\u001b[0;34m)\u001b[0m\u001b[0;34m\u001b[0m\u001b[0;34m\u001b[0m\u001b[0m\n\u001b[1;32m    416\u001b[0m \u001b[0;34m\u001b[0m\u001b[0m\n",
      "\u001b[0;32m/usr/lib/python3.6/multiprocessing/connection.py\u001b[0m in \u001b[0;36mwait\u001b[0;34m(object_list, timeout)\u001b[0m\n\u001b[1;32m    909\u001b[0m \u001b[0;34m\u001b[0m\u001b[0m\n\u001b[1;32m    910\u001b[0m             \u001b[0;32mwhile\u001b[0m \u001b[0;32mTrue\u001b[0m\u001b[0;34m:\u001b[0m\u001b[0;34m\u001b[0m\u001b[0;34m\u001b[0m\u001b[0m\n\u001b[0;32m--> 911\u001b[0;31m                 \u001b[0mready\u001b[0m \u001b[0;34m=\u001b[0m \u001b[0mselector\u001b[0m\u001b[0;34m.\u001b[0m\u001b[0mselect\u001b[0m\u001b[0;34m(\u001b[0m\u001b[0mtimeout\u001b[0m\u001b[0;34m)\u001b[0m\u001b[0;34m\u001b[0m\u001b[0;34m\u001b[0m\u001b[0m\n\u001b[0m\u001b[1;32m    912\u001b[0m                 \u001b[0;32mif\u001b[0m \u001b[0mready\u001b[0m\u001b[0;34m:\u001b[0m\u001b[0;34m\u001b[0m\u001b[0;34m\u001b[0m\u001b[0m\n\u001b[1;32m    913\u001b[0m                     \u001b[0;32mreturn\u001b[0m \u001b[0;34m[\u001b[0m\u001b[0mkey\u001b[0m\u001b[0;34m.\u001b[0m\u001b[0mfileobj\u001b[0m \u001b[0;32mfor\u001b[0m \u001b[0;34m(\u001b[0m\u001b[0mkey\u001b[0m\u001b[0;34m,\u001b[0m \u001b[0mevents\u001b[0m\u001b[0;34m)\u001b[0m \u001b[0;32min\u001b[0m \u001b[0mready\u001b[0m\u001b[0;34m]\u001b[0m\u001b[0;34m\u001b[0m\u001b[0;34m\u001b[0m\u001b[0m\n",
      "\u001b[0;32m/usr/lib/python3.6/selectors.py\u001b[0m in \u001b[0;36mselect\u001b[0;34m(self, timeout)\u001b[0m\n\u001b[1;32m    374\u001b[0m             \u001b[0mready\u001b[0m \u001b[0;34m=\u001b[0m \u001b[0;34m[\u001b[0m\u001b[0;34m]\u001b[0m\u001b[0;34m\u001b[0m\u001b[0;34m\u001b[0m\u001b[0m\n\u001b[1;32m    375\u001b[0m             \u001b[0;32mtry\u001b[0m\u001b[0;34m:\u001b[0m\u001b[0;34m\u001b[0m\u001b[0;34m\u001b[0m\u001b[0m\n\u001b[0;32m--> 376\u001b[0;31m                 \u001b[0mfd_event_list\u001b[0m \u001b[0;34m=\u001b[0m \u001b[0mself\u001b[0m\u001b[0;34m.\u001b[0m\u001b[0m_poll\u001b[0m\u001b[0;34m.\u001b[0m\u001b[0mpoll\u001b[0m\u001b[0;34m(\u001b[0m\u001b[0mtimeout\u001b[0m\u001b[0;34m)\u001b[0m\u001b[0;34m\u001b[0m\u001b[0;34m\u001b[0m\u001b[0m\n\u001b[0m\u001b[1;32m    377\u001b[0m             \u001b[0;32mexcept\u001b[0m \u001b[0mInterruptedError\u001b[0m\u001b[0;34m:\u001b[0m\u001b[0;34m\u001b[0m\u001b[0;34m\u001b[0m\u001b[0m\n\u001b[1;32m    378\u001b[0m                 \u001b[0;32mreturn\u001b[0m \u001b[0mready\u001b[0m\u001b[0;34m\u001b[0m\u001b[0;34m\u001b[0m\u001b[0m\n",
      "\u001b[0;31mKeyboardInterrupt\u001b[0m: "
     ]
    }
   ],
   "source": [
    "# optimizer = optim.SGD(model.parameters(), lr=0.2)  # lr = 0.2 used in paper\n",
    "# scheduler = optim.lr_scheduler.ReduceLROnPlateau(optimizer, patience=10, verbose=True, cooldown=5, min_lr=0.00001)\n",
    "\n",
    "#optimizer = optim.Adam(model.parameters(), amsgrad=True)\n",
    "\n",
    "# optimizer = optim.Adadelta(model.parameters())\n",
    "# scheduler = optim.lr_scheduler.StepLR(optimizer, step_size=1, gamma=0.1, )\n",
    "\n",
    "# hence approximately waiting for print_interval*batch_size*(patience+cooldown) to improve\n",
    "log_interval = 5\n",
    "print_interval = 50\n",
    "\n",
    "epochs = 20\n",
    "load = False\n",
    "\n",
    "writer = SummaryWriter(save_dir)\n",
    "print('save_dir', save_dir)\n",
    "\n",
    "\n",
    "\n",
    "# load_dict = 'trained_models/Adadelta_NC_step_1_2019-12-31 04:30:30.395730'\n",
    "# model.load_state_dict(torch.load(os.path.join(load_dict, 'las_model_half_0')))\n",
    "# optimizer.load_state_dict(torch.load(os.path.join(load_dict, 'optim_half_0')))\n",
    "\n",
    "\n",
    "for epoch in range(1, epochs): \n",
    "    train(model, DEVICE, train_loader, optimizer, epoch, print_interval, writer, \n",
    "          log_interval, scheduler=True, train_dataset=train_dataset)\n",
    "    \n",
    "    #save model\n",
    "    torch.save(model.state_dict(), os.path.join(save_dir, f'las_model_{epoch}'))\n",
    "    torch.save(optimizer.state_dict(), os.path.join(save_dir, f'optim_{epoch}'))\n",
    "    \n",
    "    validate_personal(model, 2, train_dataset)\n",
    "    \n",
    "    # Decrease tf_ratio\n",
    "#     if (epoch+1)%10 == 0:\n",
    "#         model.tf_ratio = model.tf_ratio - 0.5\n",
    "#         print(\"\\nTeacher forcing ratio:\", model.tf_ratio)\n",
    "    \n",
    "#     if scheduler:\n",
    "#         validate_personal(model, 2, train_dataset)\n",
    "#         for param_group in optimizer.param_groups:\n",
    "#             param_group['lr'] = max(param_group['lr']*0.1, 0.001)\n",
    "#         print(\"-\"*10, \"LR decreased\", '-'*10)"
   ]
  },
  {
   "cell_type": "code",
   "execution_count": null,
   "metadata": {},
   "outputs": [
    {
     "name": "stdout",
     "output_type": "stream",
     "text": [
      "save_dir trained_models/Amsgrad_main_dataset_2019-12-31 09:04:26.359994\n",
      "Training, Logging: Mean loss of previous 50 batches \n",
      "\n"
     ]
    }
   ],
   "source": [
    "# optimizer = optim.SGD(model.parameters(), lr=0.2)  # lr = 0.2 used in paper\n",
    "# scheduler = optim.lr_scheduler.ReduceLROnPlateau(optimizer, patience=10, verbose=True, cooldown=5, min_lr=0.00001)\n",
    "\n",
    "#optimizer = optim.Adam(model.parameters(), amsgrad=True)\n",
    "\n",
    "# optimizer = optim.Adadelta(model.parameters())\n",
    "# scheduler = optim.lr_scheduler.StepLR(optimizer, step_size=1, gamma=0.1, )\n",
    "\n",
    "# hence approximately waiting for print_interval*batch_size*(patience+cooldown) to improve\n",
    "log_interval = 5\n",
    "print_interval = 50\n",
    "\n",
    "epochs = 20\n",
    "load = False\n",
    "\n",
    "writer = SummaryWriter(save_dir)\n",
    "print('save_dir', save_dir)\n",
    "\n",
    "\n",
    "\n",
    "# load_dict = 'trained_models/Adadelta_NC_step_1_2019-12-31 04:30:30.395730'\n",
    "# model.load_state_dict(torch.load(os.path.join(load_dict, 'las_model_half_0')))\n",
    "# optimizer.load_state_dict(torch.load(os.path.join(load_dict, 'optim_half_0')))\n",
    "\n",
    "\n",
    "for epoch in range(1, epochs): \n",
    "    train(model, DEVICE, train_loader, optimizer, epoch, print_interval, writer, \n",
    "          log_interval, scheduler=True, train_dataset=train_dataset)\n",
    "    \n",
    "    #save model\n",
    "    torch.save(model.state_dict(), os.path.join(save_dir, f'las_model_{epoch}'))\n",
    "    torch.save(optimizer.state_dict(), os.path.join(save_dir, f'optim_{epoch}'))\n",
    "    \n",
    "    validate_personal(model, 2, train_dataset)\n",
    "    \n",
    "    # Decrease tf_ratio\n",
    "#     if (epoch+1)%10 == 0:\n",
    "#         model.tf_ratio = model.tf_ratio - 0.5\n",
    "#         print(\"\\nTeacher forcing ratio:\", model.tf_ratio)\n",
    "    \n",
    "#     if scheduler:\n",
    "#         validate_personal(model, 2, train_dataset)\n",
    "#         for param_group in optimizer.param_groups:\n",
    "#             param_group['lr'] = max(param_group['lr']*0.1, 0.001)\n",
    "#         print(\"-\"*10, \"LR decreased\", '-'*10)"
   ]
  },
  {
   "cell_type": "markdown",
   "metadata": {},
   "source": [
    "### TEST"
   ]
  },
  {
   "cell_type": "code",
   "execution_count": null,
   "metadata": {},
   "outputs": [],
   "source": [
    "def decode_pred_sent(out):\n",
    "    pred_sent = []\n",
    "    out = out.squeeze(0)\n",
    "    for t in out:\n",
    "        lol = t.max(dim=0)[1].item()\n",
    "        pred_sent.append(token_to_char[lol])\n",
    "    return ''.join(pred_sent)\n",
    "\n",
    "\n",
    "def decode_true_sent(y):\n",
    "    sent = []\n",
    "    for t in y:\n",
    "        sent.append(token_to_char[t.item()])\n",
    "    return ''.join(sent)"
   ]
  },
  {
   "cell_type": "code",
   "execution_count": null,
   "metadata": {},
   "outputs": [],
   "source": [
    "num_sent = 10\n",
    "model.eval()\n",
    "\n",
    "for _ in range(num_sent):\n",
    "    \n",
    "    idx = random.randint(0, train_df.shape[0])\n",
    "    trial_dataset = SpeechDataset(train_df, data_dir, char_to_token)\n",
    "\n",
    "    x, y = trial_dataset.__getitem__(idx)\n",
    "    # plt.imshow(x[0,:,:].detach())\n",
    "\n",
    "    # Model output\n",
    "    print(y.shape)\n",
    "    \n",
    "    target = y.unsqueeze(dim=0).to(DEVICE)\n",
    "    data = x.permute(0, 2, 1).to(DEVICE)\n",
    "    loss, output = model(data, target)\n",
    "    print(output.shape)\n",
    "    print(\"True sent : \", decode_true_sent(y), end='\\n\\n')\n",
    "    print(\"Pred sent : \", decode_pred_sent(output))\n",
    "    print(\"Loss :\", loss.item())    \n",
    "    print(\"\\n\")"
   ]
  },
  {
   "cell_type": "markdown",
   "metadata": {},
   "source": [
    "### Trying with Torchtext"
   ]
  },
  {
   "cell_type": "code",
   "execution_count": null,
   "metadata": {},
   "outputs": [],
   "source": [
    "## Knowing the frequency of words\n",
    "\n",
    "def process(s):\n",
    "    return list(s)\n",
    "\n",
    "si_field = Field(\n",
    "    tokenizer_language='si',\n",
    "    lower=True, \n",
    "    init_token='<sos>', \n",
    "    eos_token='<eos>',\n",
    "    batch_first=True,\n",
    "    preprocessing=process\n",
    ")\n",
    "\n",
    "dataset = TabularDataset(\n",
    "    path=os.path.join(data_dir, 'temp.csv'),\n",
    "    format='CSV',\n",
    "    fields=[('index', None),('unnamed', None), ('sent', si_field)]\n",
    ")"
   ]
  },
  {
   "cell_type": "code",
   "execution_count": null,
   "metadata": {},
   "outputs": [],
   "source": [
    "si_field.build_vocab(dataset, min_freq=2)\n",
    "print(len(si_field.vocab.stoi))"
   ]
  }
 ],
 "metadata": {
  "file_extension": ".py",
  "kernelspec": {
   "display_name": "Python 3",
   "language": "python",
   "name": "python3"
  },
  "language_info": {
   "codemirror_mode": {
    "name": "ipython",
    "version": 3
   },
   "file_extension": ".py",
   "mimetype": "text/x-python",
   "name": "python",
   "nbconvert_exporter": "python",
   "pygments_lexer": "ipython3",
   "version": "3.6.8"
  },
  "mimetype": "text/x-python",
  "name": "python",
  "npconvert_exporter": "python",
  "pygments_lexer": "ipython3",
  "version": 3
 },
 "nbformat": 4,
 "nbformat_minor": 2
}
